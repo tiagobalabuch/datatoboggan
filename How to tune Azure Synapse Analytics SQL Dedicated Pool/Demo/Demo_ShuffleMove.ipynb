{
    "cells": [
        {
            "attachments": {},
            "cell_type": "markdown",
            "metadata": {
                "azdata_cell_guid": "0db5e2e5-ec04-47d4-a297-505e087d0642"
            },
            "source": [
                "# Demo\n",
                "\n",
                "In this demo, we are going to analyse the result of joining two tables created with Hash distribution on different columns. We will also see how to fix it. \n",
                "\n",
                "We will start by creating two new tables with Hash distribution on different columns. \n",
                "\n",
                "[Guidance for designing distributed tables using dedicated SQL pool in Azure Synapse Analytics](https://docs.microsoft.com/en-us/azure/synapse-analytics/sql-data-warehouse/sql-data-warehouse-tables-distribute)"
            ]
        },
        {
            "attachments": {},
            "cell_type": "markdown",
            "metadata": {
                "azdata_cell_guid": "68c2c084-71d1-49be-ba21-75bdd0461c22",
                "language": "sql"
            },
            "source": [
                "## Actual State\n",
                "\n",
                "Dynamic Management Views (DMVs) allow you to monitor your workload, including investigating query execution in SQL pool. You can check more [here] (https://docs.microsoft.com/en-us/azure/synapse-analytics/sql-data-warehouse/sql-data-warehouse-manage-monitor).\n",
                "\n",
                "We will use the folowing DMVs to see what is running in the DW and what are the query steps:\n",
                "- [sys.dm_pdw_exec_requests (Transact-SQL)](https://docs.microsoft.com/en-us/sql/relational-databases/system-dynamic-management-views/sys-dm-pdw-exec-requests-transact-sql?toc=%2Fazure%2Fsynapse-analytics%2Fsql-data-warehouse%2Ftoc.json&bc=%2Fazure%2Fsynapse-analytics%2Fsql-data-warehouse%2Fbreadcrumb%2Ftoc.json&view=azure-sqldw-latest&preserve-view=true) \n",
                "- [sys.dm_pdw_request_steps (Transact-SQL)](https://docs.microsoft.com/en-us/sql/relational-databases/system-dynamic-management-views/sys-dm-pdw-request-steps-transact-sql?toc=%2Fazure%2Fsynapse-analytics%2Fsql-data-warehouse%2Ftoc.json&bc=%2Fazure%2Fsynapse-analytics%2Fsql-data-warehouse%2Fbreadcrumb%2Ftoc.json&view=azure-sqldw-latest&preserve-view=true)\n",
                "\n",
                "\n",
                "### **sys.dm_pdw_exec_requests**\n",
                "Holds information about all requests currently or recently active in Azure Synapse Analytics. It lists one row per request/query..\n",
                "\n",
                "### **sys.dm_pdw_request_steps**\n",
                "Holds information about all steps that compose a given request or query in Azure Synapse Analytics. It lists one row per query step."
            ]
        },
        {
            "cell_type": "markdown",
            "metadata": {},
            "source": [
                "Run the next cell to check if there's any activity currently running on your database."
            ]
        },
        {
            "cell_type": "code",
            "execution_count": null,
            "metadata": {
                "azdata_cell_guid": "7109f45e-b947-42e2-b64b-a2f6c17cd4fb",
                "language": "sql",
                "vscode": {
                    "languageId": "sql"
                }
            },
            "outputs": [
                {
                    "ename": "",
                    "evalue": "",
                    "output_type": "error",
                    "traceback": [
                        "\u001b[1;31mRunning cells with 'Python 3.8.5 32-bit' requires ipykernel package.\n",
                        "Run the following command to install 'ipykernel' into the Python environment. \n",
                        "Command: 'c:/Users/anlobaob/AppData/Local/Programs/Python/Python38-32/python.exe -m pip install ipykernel -U --user --force-reinstall'"
                    ]
                }
            ],
            "source": [
                "SELECT * FROM sys.dm_pdw_exec_requests WHERE 1=1 AND status = 'Running' and session_id != SESSION_ID()"
            ]
        },
        {
            "cell_type": "markdown",
            "metadata": {},
            "source": [
                "Now, we will create two new tables with Hash distribution on different columns:  Medallion_new and Trip_New:\n",
                "\n"
            ]
        },
        {
            "cell_type": "code",
            "execution_count": null,
            "metadata": {
                "azdata_cell_guid": "b4a627ab-4e16-4ba9-a26b-1f369c250d5a",
                "language": "sql",
                "vscode": {
                    "languageId": "sql"
                }
            },
            "outputs": [
                {
                    "ename": "",
                    "evalue": "",
                    "output_type": "error",
                    "traceback": [
                        "\u001b[1;31mRunning cells with 'Python 3.8.5 32-bit' requires ipykernel package.\n",
                        "Run the following command to install 'ipykernel' into the Python environment. \n",
                        "Command: 'c:/Users/anlobaob/AppData/Local/Programs/Python/Python38-32/python.exe -m pip install ipykernel -U --user --force-reinstall'"
                    ]
                }
            ],
            "source": [
                "CREATE TABLE [dbo].[Medallion_new] WITH (DISTRIBUTION = HASH (MedallionID), CLUSTERED COLUMNSTORE INDEX)\n",
                "AS SELECT * FROM [dbo].[Trip]\n",
                "\n",
                "CREATE TABLE [dbo].[Trip_New] WITH (DISTRIBUTION = HASH (HackneyLicenseID), CLUSTERED COLUMNSTORE INDEX)\n",
                "AS SELECT * FROM [dbo].[Trip]"
            ]
        },
        {
            "attachments": {},
            "cell_type": "markdown",
            "metadata": {
                "azdata_cell_guid": "1deb2583-0689-4799-a885-c5518abf7dfe",
                "language": "sql"
            },
            "source": [
                "The new tables have the same columns, as they were created based on the same table: **Trip**. Now, we will check the **data movement** by  joining them. "
            ]
        },
        {
            "cell_type": "code",
            "execution_count": 24,
            "metadata": {
                "azdata_cell_guid": "c0ebf39e-4c0d-4c7d-bc52-fb13b780b8c6",
                "language": "sql",
                "vscode": {
                    "languageId": "sql"
                }
            },
            "outputs": [
                {
                    "data": {
                        "text/html": [
                            "(1 row affected)"
                        ]
                    },
                    "metadata": {},
                    "output_type": "display_data"
                },
                {
                    "data": {
                        "text/html": [
                            "Total execution time: 00:00:00.191"
                        ]
                    },
                    "metadata": {},
                    "output_type": "display_data"
                },
                {
                    "data": {
                        "application/vnd.dataresource+json": {
                            "data": [
                                {
                                    "0": "[dbo].[Trip_Partitioned]",
                                    "1": "ClusteredIndex_b18d11a02b7e48dda241dd83c29aaec9",
                                    "2": "13"
                                }
                            ],
                            "schema": {
                                "fields": [
                                    {
                                        "name": "Table_name"
                                    },
                                    {
                                        "name": "Index_name"
                                    },
                                    {
                                        "name": "Partition_total"
                                    }
                                ]
                            }
                        },
                        "text/html": [
                            "<table><tr><th>Table_name</th><th>Index_name</th><th>Partition_total</th></tr><tr><td>[dbo].[Trip_Partitioned]</td><td>ClusteredIndex_b18d11a02b7e48dda241dd83c29aaec9</td><td>13</td></tr></table>"
                        ]
                    },
                    "execution_count": 24,
                    "metadata": {},
                    "output_type": "execute_result"
                }
            ],
            "source": [
                "SELECT TOP (1000) * FROM [dbo].[Medallion_new] m INNER JOIN [dbo].[Trip_New] t\n",
                "ON m.MedallionID = t.MedallionID"
            ]
        },
        {
            "cell_type": "markdown",
            "metadata": {},
            "source": [
                "Run the **sys.dm_pdw_exec_requests** immediately after you run the Join script above to get the request_id of the active join, and then check the **sys.dm_pdw_request_steps** to fetch the resulting **ShuffleMove**. "
            ]
        },
        {
            "cell_type": "code",
            "execution_count": null,
            "metadata": {
                "vscode": {
                    "languageId": "sql"
                }
            },
            "outputs": [],
            "source": [
                "SELECT * FROM sys.dm_pdw_exec_requests WHERE 1=1 AND status = 'Running' and session_id != SESSION_ID()\n",
                "-- After getting the request_id, replace it below and run:\n",
                "SELECT * FROM sys.dm_pdw_request_steps WHERE 1=1 AND request_id In ('replace me')"
            ]
        },
        {
            "cell_type": "markdown",
            "metadata": {},
            "source": [
                "We see an incompatible join - both tales are hasehed on different columns. As the join was performed on the MedallionID column, the **Trip_New** table will be resdistributed by the MedallionID, because when it was created it was distributed on the HackneyLicenseID column. This will cause a **ShuffleMove** operation. You will see this move because data in the **Trip_New** table is being redistributed since it has a different distribution column than the original distributed table. This can be solved by changing the distribution key.\n",
                "\n",
                "\n",
                "Insteade of executing the join query above, you can simply check its **Execution plan**, which will give you a diagram where you can see the operation steps, the effort made by the engine to compute the steps, the hash value, and other execution properties. In SQL Server Management Studio (SSMS), you simply select the query and click on *Display Estimated Execution Plan*. This is the compiled plan, as produced by the Query Optimizer based on estimations. This is the query plan that is stored in the plan cache, and is an important visual aid for troubleshooting and for specific steps where complex queries are a multistep operation. \n",
                "\n",
                "Another important tool is the output of the *[EXPLAIN](https://docs.microsoft.com/en-us/sql/t-sql/queries/explain-transact-sql?view=azure-sqldw-latest)* function:  it returns the **Query plan** for a Microsoft Azure Synapse Analytics SQL statement without running the statement. Use EXPLAIN to preview which operations will require data movement and to view the estimated costs of the query operations. WITH RECOMMENDATIONS applies to Azure Synapse Analytics, but is not supported by serverless SQL pool in Azure Synapse Analytics."
            ]
        },
        {
            "attachments": {},
            "cell_type": "markdown",
            "metadata": {
                "azdata_cell_guid": "7c90b19d-9e87-4023-9326-46118a0f005e",
                "language": "sql"
            },
            "source": [
                "## Issue and Fix\n",
                "\n",
                "We can apply an easy fix for this demo's purpose, but in a real scenario you need to have business knowledge and possibly involve a Data Analyst to chose the appropriate distribution column. \n",
                "\n",
                "To avoid a shuffle Move here, we will create the **Trip_New_K** table. **Alter table** does not yet support changing the distribution in a table in Azure Synapse, so you can also create a copy table of the original table using CTAS, drop the original table and then rename the new one to the original name.\n",
                "\n",
                "### **Fix**\n",
                "In our demo, we opted for creating a new table with a new distribution key: **MedallionID**."
            ]
        },
        {
            "cell_type": "code",
            "execution_count": 25,
            "metadata": {
                "azdata_cell_guid": "c71abb3b-d62b-454a-95c3-262592b7fe63",
                "language": "sql",
                "vscode": {
                    "languageId": "sql"
                }
            },
            "outputs": [
                {
                    "data": {
                        "text/html": [
                            "(170261325 rows affected)"
                        ]
                    },
                    "metadata": {},
                    "output_type": "display_data"
                },
                {
                    "data": {
                        "text/html": [
                            "Total execution time: 00:04:34.187"
                        ]
                    },
                    "metadata": {},
                    "output_type": "display_data"
                }
            ],
            "source": [
                "CREATE TABLE [dbo].[Trip_New_K] WITH (DISTRIBUTION = HASH (MedallionID),CLUSTERED COLUMNSTORE INDEX)\n",
                "AS SELECT * FROM [dbo].[Trip]"
            ]
        },
        {
            "attachments": {},
            "cell_type": "markdown",
            "metadata": {
                "azdata_cell_guid": "05a80850-b3bb-4e98-8e95-8952ad3e3689",
                "language": ""
            },
            "source": [
                "Now, we can see there's no more **data movement** when joining the **Medallion_new** and the **Trip_New_K** tables. "
            ]
        },
        {
            "cell_type": "code",
            "execution_count": null,
            "metadata": {
                "vscode": {
                    "languageId": "sql"
                }
            },
            "outputs": [],
            "source": [
                "SELECT TOP (1000) * FROM [dbo].[Medallion_new] m INNER JOIN [dbo].[Trip_New_K] k\n",
                "ON m.MedallionID = t.MedallionID"
            ]
        }
    ],
    "metadata": {
        "kernelspec": {
            "display_name": "Python 3.8.5 32-bit",
            "language": "python",
            "name": "python3"
        },
        "language_info": {
            "name": "python",
            "version": "3.8.5"
        },
        "vscode": {
            "interpreter": {
                "hash": "904820ee49b864bb32e8cbedc762922fcc64637c245fdc91725cacc522cc47d2"
            }
        }
    },
    "nbformat": 4,
    "nbformat_minor": 2
}

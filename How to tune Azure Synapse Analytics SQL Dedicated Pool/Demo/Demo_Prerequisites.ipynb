{
    "cells": [
        {
            "attachments": {},
            "cell_type": "markdown",
            "metadata": {
                "azdata_cell_guid": "6fd10d42-ab71-43e1-a5db-1d863d3e9097",
                "language": "sql"
            },
            "source": [
                "# Data toboggan"
            ]
        },
        {
            "attachments": {},
            "cell_type": "markdown",
            "metadata": {
                "azdata_cell_guid": "7d5b349a-b299-4bb9-813f-e1e36c0ccf89",
                "language": "sql"
            },
            "source": [
                "This notebook will guide you to create your environment\n",
                "\n",
                "First, let's create a login and user that will be used along this session.\n",
                "\n",
                "**<mark>Connect to master database</mark>**"
            ]
        },
        {
            "cell_type": "code",
            "execution_count": null,
            "metadata": {
                "azdata_cell_guid": "e5f86ebf-f0ff-4f66-bfac-d39bae225c00",
                "language": "sql"
            },
            "outputs": [],
            "source": [
                "-- AUTHENTICATION\n",
                "-- Connect to master database and create a login\n",
                "CREATE LOGIN LoadData WITH PASSWORD  ='myLoadD@t@' ;\n",
                "GO"
            ]
        },
        {
            "attachments": {},
            "cell_type": "markdown",
            "metadata": {
                "azdata_cell_guid": "76688f40-c54e-44b3-a0f3-180e56b1fd63",
                "language": "sql"
            },
            "source": [
                "## Workload Management"
            ]
        },
        {
            "cell_type": "code",
            "execution_count": null,
            "metadata": {
                "azdata_cell_guid": "5d347610-b2fb-4ca5-87e4-f06e546de46e",
                "language": "sql",
                "tags": []
            },
            "outputs": [],
            "source": [
                "CREATE WORKLOAD GROUP ETL\n",
                "WITH (MIN_PERCENTAGE_RESOURCE =0 \n",
                "      ,CAP_PERCENTAGE_RESOURCE = 100\n",
                "      ,REQUEST_MIN_RESOURCE_GRANT_PERCENT = 50);\n",
                "\n",
                "CREATE WORKLOAD CLASSIFIER LoadingData\n",
                "WITH ( WORKLOAD_GROUP = 'ETL'\n",
                "      ,MEMBERNAME = 'LoadData')\n",
                "      \n",
                "CREATE WORKLOAD GROUP maintenance\n",
                "WITH (MIN_PERCENTAGE_RESOURCE = 0 \n",
                "      ,CAP_PERCENTAGE_RESOURCE = 100\n",
                "      ,REQUEST_MIN_RESOURCE_GRANT_PERCENT = 50);\n",
                "\n"
            ]
        },
        {
            "attachments": {},
            "cell_type": "markdown",
            "metadata": {
                "azdata_cell_guid": "d72cb052-b135-48fb-a861-01f51f57daea"
            },
            "source": [
                "**<mark>Switch to your database</mark>** to create a user"
            ]
        },
        {
            "cell_type": "code",
            "execution_count": null,
            "metadata": {
                "azdata_cell_guid": "09f28368-ae48-48a1-ad10-5a04e0b06f33",
                "language": "sql"
            },
            "outputs": [],
            "source": [
                "\n",
                "CREATE USER LoadData FOR LOGIN LoadData; \n",
                "GO  \n",
                "-- Allow user to read data\n",
                "EXEC sp_addrolemember 'db_datareader', 'LoadData'; \n",
                "\n",
                "-- Allow user to write data\n",
                "EXEC sp_addrolemember 'db_datawriter', 'LoadData';\n",
                "\n",
                "-- Can do everything within the database\n",
                "EXEC sp_addrolemember 'db_owner', 'LoadData';"
            ]
        },
        {
            "attachments": {},
            "cell_type": "markdown",
            "metadata": {
                "azdata_cell_guid": "c2eef35e-1167-4a08-a688-23d82b6492d2",
                "language": "sql"
            },
            "source": [
                "## Creating table schema"
            ]
        },
        {
            "cell_type": "code",
            "execution_count": null,
            "metadata": {
                "azdata_cell_guid": "a90638ac-d19a-44d6-912d-d5b13c412522",
                "language": "sql",
                "tags": []
            },
            "outputs": [],
            "source": [
                "CREATE TABLE [dbo].[Date]\n",
                "(\n",
                "    [DateID] int NOT NULL,\n",
                "    [Date] datetime NULL,\n",
                "    [DateBKey] char(10) COLLATE SQL_Latin1_General_CP1_CI_AS NULL,\n",
                "    [DayOfMonth] varchar(2) COLLATE SQL_Latin1_General_CP1_CI_AS NULL,\n",
                "    [DaySuffix] varchar(4) COLLATE SQL_Latin1_General_CP1_CI_AS NULL,\n",
                "    [DayName] varchar(9) COLLATE SQL_Latin1_General_CP1_CI_AS NULL,\n",
                "    [DayOfWeek] char(1) COLLATE SQL_Latin1_General_CP1_CI_AS NULL,\n",
                "    [DayOfWeekInMonth] varchar(2) COLLATE SQL_Latin1_General_CP1_CI_AS NULL,\n",
                "    [DayOfWeekInYear] varchar(2) COLLATE SQL_Latin1_General_CP1_CI_AS NULL,\n",
                "    [DayOfQuarter] varchar(3) COLLATE SQL_Latin1_General_CP1_CI_AS NULL,\n",
                "    [DayOfYear] varchar(3) COLLATE SQL_Latin1_General_CP1_CI_AS NULL,\n",
                "    [WeekOfMonth] varchar(1) COLLATE SQL_Latin1_General_CP1_CI_AS NULL,\n",
                "    [WeekOfQuarter] varchar(2) COLLATE SQL_Latin1_General_CP1_CI_AS NULL,\n",
                "    [WeekOfYear] varchar(2) COLLATE SQL_Latin1_General_CP1_CI_AS NULL,\n",
                "    [Month] varchar(2) COLLATE SQL_Latin1_General_CP1_CI_AS NULL,\n",
                "    [MonthName] varchar(9) COLLATE SQL_Latin1_General_CP1_CI_AS NULL,\n",
                "    [MonthOfQuarter] varchar(2) COLLATE SQL_Latin1_General_CP1_CI_AS NULL,\n",
                "    [Quarter] char(1) COLLATE SQL_Latin1_General_CP1_CI_AS NULL,\n",
                "    [QuarterName] varchar(9) COLLATE SQL_Latin1_General_CP1_CI_AS NULL,\n",
                "    [Year] char(4) COLLATE SQL_Latin1_General_CP1_CI_AS NULL,\n",
                "    [YearName] char(7) COLLATE SQL_Latin1_General_CP1_CI_AS NULL,\n",
                "    [MonthYear] char(10) COLLATE SQL_Latin1_General_CP1_CI_AS NULL,\n",
                "    [MMYYYY] char(6) COLLATE SQL_Latin1_General_CP1_CI_AS NULL,\n",
                "    [FirstDayOfMonth] date NULL,\n",
                "    [LastDayOfMonth] date NULL,\n",
                "    [FirstDayOfQuarter] date NULL,\n",
                "    [LastDayOfQuarter] date NULL,\n",
                "    [FirstDayOfYear] date NULL,\n",
                "    [LastDayOfYear] date NULL,\n",
                "    [IsHolidayUSA] bit NULL,\n",
                "    [IsWeekday] bit NULL,\n",
                "    [HolidayUSA] varchar(50) COLLATE SQL_Latin1_General_CP1_CI_AS NULL\n",
                ")\n",
                "WITH\n",
                "(\n",
                "    DISTRIBUTION = ROUND_ROBIN,\n",
                "    CLUSTERED COLUMNSTORE INDEX\n",
                ");\n",
                "\n",
                "CREATE TABLE [dbo].[Geography]\n",
                "(\n",
                "    [GeographyID] int NOT NULL,\n",
                "    [ZipCodeBKey] varchar(10) COLLATE SQL_Latin1_General_CP1_CI_AS NOT NULL,\n",
                "    [County] varchar(50) COLLATE SQL_Latin1_General_CP1_CI_AS NULL,\n",
                "    [City] varchar(50) COLLATE SQL_Latin1_General_CP1_CI_AS NULL,\n",
                "    [State] varchar(50) COLLATE SQL_Latin1_General_CP1_CI_AS NULL,\n",
                "    [Country] varchar(50) COLLATE SQL_Latin1_General_CP1_CI_AS NULL,\n",
                "    [ZipCode] varchar(50) COLLATE SQL_Latin1_General_CP1_CI_AS NULL\n",
                ")\n",
                "WITH\n",
                "(\n",
                "    DISTRIBUTION = ROUND_ROBIN,\n",
                "    CLUSTERED COLUMNSTORE INDEX\n",
                ");\n",
                "\n",
                "\n",
                "CREATE TABLE [dbo].[HackneyLicense]\n",
                "(\n",
                "    [HackneyLicenseID] int NOT NULL,\n",
                "    [HackneyLicenseBKey] varchar(50) COLLATE SQL_Latin1_General_CP1_CI_AS NOT NULL,\n",
                "    [HackneyLicenseCode] varchar(50) COLLATE SQL_Latin1_General_CP1_CI_AS NULL\n",
                ")\n",
                "WITH\n",
                "(\n",
                "    DISTRIBUTION = ROUND_ROBIN,\n",
                "    CLUSTERED COLUMNSTORE INDEX\n",
                ");\n",
                "\n",
                "CREATE TABLE [dbo].[Medallion]\n",
                "(\n",
                "    [MedallionID] int NOT NULL,\n",
                "    [MedallionBKey] varchar(50) COLLATE SQL_Latin1_General_CP1_CI_AS NOT NULL,\n",
                "    [MedallionCode] varchar(50) COLLATE SQL_Latin1_General_CP1_CI_AS NULL\n",
                ")\n",
                "WITH\n",
                "(\n",
                "    DISTRIBUTION = ROUND_ROBIN,\n",
                "    CLUSTERED COLUMNSTORE INDEX\n",
                ");\n",
                "\n",
                "CREATE TABLE [dbo].[Trip]\n",
                "(\n",
                "    [DateID] int NOT NULL,\n",
                "    [MedallionID] int NOT NULL,\n",
                "    [HackneyLicenseID] int NOT NULL,\n",
                "    [PickupTimeID] int NOT NULL,\n",
                "    [DropoffTimeID] int NOT NULL,\n",
                "    [PickupGeographyID] int NULL,\n",
                "    [DropoffGeographyID] int NULL,\n",
                "    [PickupLatitude] float NULL,\n",
                "    [PickupLongitude] float NULL,\n",
                "    [PickupLatLong] varchar(50) COLLATE SQL_Latin1_General_CP1_CI_AS NULL,\n",
                "    [DropoffLatitude] float NULL,\n",
                "    [DropoffLongitude] float NULL,\n",
                "    [DropoffLatLong] varchar(50) COLLATE SQL_Latin1_General_CP1_CI_AS NULL,\n",
                "    [PassengerCount] int NULL,\n",
                "    [TripDurationSeconds] int NULL,\n",
                "    [TripDistanceMiles] float NULL,\n",
                "    [PaymentType] varchar(50) COLLATE SQL_Latin1_General_CP1_CI_AS NULL,\n",
                "    [FareAmount] money NULL,\n",
                "    [SurchargeAmount] money NULL,\n",
                "    [TaxAmount] money NULL,\n",
                "    [TipAmount] money NULL,\n",
                "    [TollsAmount] money NULL,\n",
                "    [TotalAmount] money NULL\n",
                ")\n",
                "WITH\n",
                "(\n",
                "    DISTRIBUTION = ROUND_ROBIN,\n",
                "    CLUSTERED COLUMNSTORE INDEX\n",
                ");\n",
                "\n",
                "CREATE TABLE [dbo].[Weather]\n",
                "(\n",
                "    [DateID] int NOT NULL,\n",
                "    [GeographyID] int NOT NULL,\n",
                "    [PrecipitationInches] float NOT NULL,\n",
                "    [AvgTemperatureFahrenheit] float NOT NULL\n",
                ")\n",
                "WITH\n",
                "(\n",
                "    DISTRIBUTION = ROUND_ROBIN,\n",
                "    CLUSTERED COLUMNSTORE INDEX\n",
                ");\n",
                "\n",
                "-- it is not working\n",
                "CREATE TABLE [dbo].[Time]\n",
                "(\n",
                "    [TimeID] int NOT NULL,\n",
                "    [TimeBKey] varchar(8) COLLATE SQL_Latin1_General_CP1_CI_AS NOT NULL,\n",
                "    [HourNumber] tinyint NOT NULL,\n",
                "    [MinuteNumber] tinyint NOT NULL,\n",
                "    [SecondNumber] tinyint NOT NULL,\n",
                "    [TimeInSecond] int NOT NULL,\n",
                "    [HourlyBucket] varchar(15) COLLATE SQL_Latin1_General_CP1_CI_AS NOT NULL,\n",
                "    [DayTimeBucketGroupKey] int NOT NULL,\n",
                "    [DayTimeBucket] varchar(100) COLLATE SQL_Latin1_General_CP1_CI_AS NOT NULL\n",
                ")\n",
                "WITH\n",
                "(\n",
                "    DISTRIBUTION = ROUND_ROBIN,\n",
                "    CLUSTERED COLUMNSTORE INDEX\n",
                ");\n",
                "\n",
                "CREATE TABLE [dbo].[Time]\n",
                "(\n",
                "    [TimeID] int NOT NULL,\n",
                "    [TimeBKey] varchar(8) COLLATE SQL_Latin1_General_CP1_CI_AS NOT NULL,\n",
                "    [HourNumber] tinyint NOT NULL,\n",
                "    [MinuteNumber] tinyint NOT NULL,\n",
                "    [SecondNumber] tinyint NOT NULL,\n",
                "    [TimeInSecond] int NOT NULL,\n",
                "    [HourlyBucket] varchar(15) COLLATE SQL_Latin1_General_CP1_CI_AS NOT NULL,\n",
                "    [DayTimeBucketGroupKey] int NOT NULL,\n",
                "    [DayTimeBucket] varchar(100) COLLATE SQL_Latin1_General_CP1_CI_AS NOT NULL\n",
                ")\n",
                "WITH\n",
                "(\n",
                "    DISTRIBUTION = ROUND_ROBIN,\n",
                "    CLUSTERED COLUMNSTORE INDEX\n",
                ");"
            ]
        },
        {
            "attachments": {},
            "cell_type": "markdown",
            "metadata": {
                "azdata_cell_guid": "b7c5dbf6-4ec6-4d44-bee7-1625230f9044",
                "language": ""
            },
            "source": [
                "## Loading Data into database\n",
                "\n",
                "Connect to your dedicated SQL Pool\n",
                "\n",
                "**User**: LoadData\n",
                "\n",
                "**Password**: myLoadD@t@"
            ]
        },
        {
            "cell_type": "code",
            "execution_count": null,
            "metadata": {
                "azdata_cell_guid": "bb193a61-6054-430d-a915-18d5f439002d",
                "language": "sql"
            },
            "outputs": [],
            "source": [
                "SELECT USER_NAME()"
            ]
        },
        {
            "cell_type": "code",
            "execution_count": null,
            "metadata": {
                "azdata_cell_guid": "d560c2b6-80ff-4016-94d4-88acf8ddcdf5",
                "language": "sql",
                "tags": []
            },
            "outputs": [],
            "source": [
                "COPY INTO [dbo].[Date]\n",
                "FROM 'https://nytaxiblob.blob.core.windows.net/2013/Date'\n",
                "WITH\n",
                "(\n",
                "    FILE_TYPE = 'CSV',\n",
                "\tFIELDTERMINATOR = ',',\n",
                "\tFIELDQUOTE = ''\n",
                ")\n",
                "OPTION (LABEL = 'Loading Data');\n",
                "\n",
                "\n",
                "COPY INTO [dbo].[Geography]\n",
                "FROM 'https://nytaxiblob.blob.core.windows.net/2013/Geography'\n",
                "WITH\n",
                "(\n",
                "    FILE_TYPE = 'CSV',\n",
                "\tFIELDTERMINATOR = ',',\n",
                "\tFIELDQUOTE = ''\n",
                ")\n",
                "OPTION (LABEL = 'Loading Data');\n",
                "\n",
                "COPY INTO [dbo].[HackneyLicense]\n",
                "FROM 'https://nytaxiblob.blob.core.windows.net/2013/HackneyLicense'\n",
                "WITH\n",
                "(\n",
                "    FILE_TYPE = 'CSV',\n",
                "\tFIELDTERMINATOR = ',',\n",
                "\tFIELDQUOTE = ''\n",
                ")\n",
                "OPTION (LABEL = 'Loading Data');\n",
                "\n",
                "COPY INTO [dbo].[Medallion]\n",
                "FROM 'https://nytaxiblob.blob.core.windows.net/2013/Medallion'\n",
                "WITH\n",
                "(\n",
                "    FILE_TYPE = 'CSV',\n",
                "\tFIELDTERMINATOR = ',',\n",
                "\tFIELDQUOTE = ''\n",
                ")\n",
                "OPTION (LABEL = 'Loading Data');\n",
                "\n",
                "COPY INTO [dbo].[Weather]\n",
                "FROM 'https://nytaxiblob.blob.core.windows.net/2013/Weather'\n",
                "WITH\n",
                "(\n",
                "    FILE_TYPE = 'CSV',\n",
                "\tFIELDTERMINATOR = ',',\n",
                "\tFIELDQUOTE = '',\n",
                "\tROWTERMINATOR='0X0A'\n",
                ")\n",
                "OPTION (LABEL = 'Loading Data');\n",
                "\n",
                "COPY INTO [dbo].[Trip]\n",
                "FROM 'https://nytaxiblob.blob.core.windows.net/2013/Trip2013'\n",
                "WITH\n",
                "(\n",
                "    FILE_TYPE = 'CSV',\n",
                "\tFIELDTERMINATOR = '|',\n",
                "\tFIELDQUOTE = '',\n",
                "\tROWTERMINATOR='0X0A',\n",
                "\tCOMPRESSION = 'GZIP'\n",
                ")\n",
                "OPTION (LABEL = 'Loading Data');\n",
                "\n",
                "COPY INTO [dbo].[Time]\n",
                "FROM 'https://nytaxiblob.blob.core.windows.net/2013/Time'\n",
                "WITH\n",
                "(\n",
                "    FILE_TYPE = 'CSV',\n",
                "\tFIELDTERMINATOR = ',',\n",
                "\tFIELDQUOTE = ''\n",
                ")\n",
                "OPTION (LABEL = 'Loading Data');"
            ]
        },
        {
            "attachments": {},
            "cell_type": "markdown",
            "metadata": {
                "azdata_cell_guid": "5d907943-faf9-4981-9189-503d4e260b5b",
                "language": "sql"
            },
            "source": [
                "## Monitoring\n",
                "\n",
                "View your data as it loads. You're loading several GBs of data and compressing it into highly performant clustered columnstore indexes. Run the following query that uses a dynamic management views (DMVs) to show the status of the load\n",
                "\n",
                "**_Copy and paste the code below into a new query to o_****_pen a new connection while you are loading data into the database_**"
            ]
        },
        {
            "cell_type": "code",
            "execution_count": null,
            "metadata": {
                "azdata_cell_guid": "fba81b61-b48a-4936-b42e-c95fffafc009",
                "language": "sql"
            },
            "outputs": [],
            "source": [
                "SELECT  r.[request_id]                           \n",
                ",       r.[status]                               \n",
                ",       r.resource_class                         \n",
                ",       r.command,\n",
                "r.[status]\n",
                "\n",
                "FROM    sys.dm_pdw_exec_requests r\n",
                "              JOIN sys.dm_pdw_dms_workers w\n",
                "                     ON r.[request_id] = w.request_id\n",
                "WHERE [label] = 'Loading Data' \n",
                "and session_id <> session_id() and type = 'WRITER'\n",
                "GROUP BY r.[request_id]                           \n",
                ",       r.[status]                               \n",
                ",       r.resource_class                         \n",
                ",       r.command;"
            ]
        },
        {
            "attachments": {},
            "cell_type": "markdown",
            "metadata": {
                "azdata_cell_guid": "3a8633dd-f090-4109-945a-6b376b496b5e",
                "language": "sql"
            },
            "source": [
                "## Preparing the Lab"
            ]
        },
        {
            "cell_type": "code",
            "execution_count": null,
            "metadata": {
                "azdata_cell_guid": "fab1bb1e-6db6-445c-b26e-f739f13c24e5",
                "language": "sql"
            },
            "outputs": [],
            "source": [
                "-- DW 100 was used\n",
                "\n",
                "IF OBJECT_ID('dbo.Trip_Partitioned') IS NOT NULL\n",
                "BEGIN\n",
                "DROP TABLE dbo.Trip_Partitioned\n",
                "END\n",
                "\n",
                "IF OBJECT_ID('dbo.Trip_Partitioned') IS NULL\n",
                "BEGIN\n",
                "CREATE TABLE dbo.Trip_Partitioned\n",
                "WITH\n",
                "(\n",
                "\tDISTRIBUTION = HASH (MedallionID),\n",
                "\tCLUSTERED COLUMNSTORE INDEX,\n",
                "\tPARTITION\n",
                "\t(\n",
                "\t\t[DateID] RANGE RIGHT FOR VALUES (20130101, 20130201, 20130301, 20130401, 20130501, 20130601, 20130701, 20130801, 20130901, 20131001, 20131101, 20131201)\n",
                "\t)\n",
                ")\n",
                "AS\n",
                "SELECT * FROM dbo.Trip_Partitioned\n",
                "-- OPTION (LABEL = 'Loading Data'); -- Simulating a user with less resources \n",
                "END"
            ]
        },
        {
            "cell_type": "code",
            "execution_count": null,
            "metadata": {
                "azdata_cell_guid": "62437c39-c522-4465-a4e3-0cdd598be3b2",
                "language": "sql"
            },
            "outputs": [],
            "source": [
                "-- DW 1000 was used\n",
                "-- Use LoadData user\n",
                "\n",
                "IF OBJECT_ID('dbo.SearchTaxi') IS NULL\n",
                "BEGIN\n",
                "CREATE TABLE dbo.SearchTaxi\n",
                "WITH\n",
                "(\n",
                "\tDISTRIBUTION = REPLICATE,\n",
                "\tCLUSTERED COLUMNSTORE INDEX\n",
                ")\n",
                "AS SELECT TOP 100859354 * FROM Trip\n",
                "OPTION (LABEL = 'Loading Data')\n",
                "END"
            ]
        },
        {
            "cell_type": "code",
            "execution_count": null,
            "metadata": {
                "azdata_cell_guid": "efd4817b-36f5-440d-a6f7-3575eb04bc96",
                "language": "sql"
            },
            "outputs": [],
            "source": [
                "-- DW 1000 was used\n",
                "-- Use LoadData user\n",
                "IF OBJECT_ID('dbo.Rides') IS NULL\n",
                "BEGIN\n",
                "CREATE TABLE dbo.Rides\n",
                "WITH\n",
                "\t(DISTRIBUTION = HASH(DateID_Dflt),\n",
                "\t CLUSTERED COLUMNSTORE INDEX )AS\n",
                "SELECT  DateID AS DateID_Dflt,\n",
                "\t\t*\n",
                "\tFROM Trip\n",
                "UNION\n",
                "SELECT  999 AS DateID_Dflt,\n",
                "\t\t*\n",
                "\tFROM Trip\n",
                "OPTION (LABEL = 'Loading Data')\n",
                "\n",
                "-- This will take a while to complete."
            ]
        }
    ],
    "metadata": {
        "kernelspec": {
            "display_name": "SQL",
            "language": "sql",
            "name": "SQL"
        },
        "language_info": {
            "name": "sql",
            "version": ""
        }
    },
    "nbformat": 4,
    "nbformat_minor": 2
}

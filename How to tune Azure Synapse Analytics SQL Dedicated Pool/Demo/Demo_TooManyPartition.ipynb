{
    "cells": [
        {
            "attachments": {},
            "cell_type": "markdown",
            "metadata": {
                "azdata_cell_guid": "0db5e2e5-ec04-47d4-a297-505e087d0642"
            },
            "source": [
                "# Demo\n",
                "\n",
                "Start looking at the PBI Dashboard and get insights of how your database is.\n",
                "\n",
                "For this demo we are going to fix the over-partition table that has a CCI bad quality\n",
                "\n",
                "[Partitioning tables in dedicated SQL pool - Azure Synapse Analytics | Microsoft Docs](https://docs.microsoft.com/en-us/azure/synapse-analytics/sql-data-warehouse/sql-data-warehouse-tables-partition)"
            ]
        },
        {
            "attachments": {},
            "cell_type": "markdown",
            "metadata": {
                "azdata_cell_guid": "68c2c084-71d1-49be-ba21-75bdd0461c22",
                "language": "sql"
            },
            "source": [
                "## Actual State\n",
                "\n",
                "Using these views, we will understand how CCI is  \n",
                "\n",
                "- [vCCIHEalth](https://github.com/microsoft/Azure_Synapse_Toolbox/blob/master/TSQL_Queries/Indexes/CCIHealthByTable.sql) \n",
                "- [vCCI\\_Stats\\_Detail](https://docs.microsoft.com/en-us/azure/sql-data-warehouse/sql-data-warehouse-memory-optimizations-for-columnstore-compression)\n",
                "\n",
                "### **vCCIHealth**\n",
                "\n",
                "This view can be created and used on your system to compute the average rows per row group and identify any suboptimal cluster columnstore indexes. \n",
                "\n",
                "### **vCCI\\_Stats\\_Detail**\n",
                "\n",
                "This view contains useful information such as the number of rows in rowgroups and the reason for trimming if there was trimming.\n",
                "\n",
                "Focus on **OPEN_Row_Groups, MAX COMPRESSED Row Group Rows and AVG_COMPRESSED_Rows** columns"
            ]
        },
        {
            "cell_type": "code",
            "execution_count": null,
            "metadata": {
                "azdata_cell_guid": "7109f45e-b947-42e2-b64b-a2f6c17cd4fb",
                "language": "sql"
            },
            "outputs": [],
            "source": [
                "SELECT * FROM dbo.vCCIHEalth WHERE table_name = 'Trip_Partitioned'"
            ]
        },
        {
            "cell_type": "code",
            "execution_count": null,
            "metadata": {
                "azdata_cell_guid": "b4a627ab-4e16-4ba9-a26b-1f369c250d5a",
                "language": "sql"
            },
            "outputs": [],
            "source": [
                "SELECT * FROM dbo.vCCI_Stats_Detail WHERE logical_table_name = 'Trip_Partitioned' \n",
                "--and state_desc <> 'COMPRESSED' \n",
                "ORDER BY trim_reason_desc DESC"
            ]
        },
        {
            "attachments": {},
            "cell_type": "markdown",
            "metadata": {
                "azdata_cell_guid": "1deb2583-0689-4799-a885-c5518abf7dfe",
                "language": "sql"
            },
            "source": [
                "Checking how many partition a spefic table has"
            ]
        },
        {
            "cell_type": "code",
            "execution_count": null,
            "metadata": {
                "azdata_cell_guid": "c0ebf39e-4c0d-4c7d-bc52-fb13b780b8c6",
                "language": "sql"
            },
            "outputs": [],
            "source": [
                "SELECT  \n",
                "\t  QUOTENAME(s.[name])+'.'+QUOTENAME(t.[name]) as Table_name\n",
                "\t, i.[name] as Index_name\n",
                "\t, COUNT(*) AS Partition_total\n",
                "FROM    sys.partitions p\n",
                "JOIN    sys.tables     t    ON    p.[object_id]   = t.[object_id]\n",
                "JOIN    sys.schemas    s    ON    t.[schema_id]   = s.[schema_id]\n",
                "JOIN    sys.indexes    i    ON    p.[object_id]   = i.[object_Id]\n",
                "                            AND   p.[index_Id]    = i.[index_Id]\n",
                "WHERE t.[name] = 'Trip_Partitioned' \n",
                "GROUP BY \t  \n",
                "\t  QUOTENAME(s.[name])+'.'+QUOTENAME(t.[name]) \n",
                "\t, i.[name] "
            ]
        },
        {
            "attachments": {},
            "cell_type": "markdown",
            "metadata": {
                "azdata_cell_guid": "7c90b19d-9e87-4023-9326-46118a0f005e",
                "language": "sql"
            },
            "source": [
                "## Issue and Fix\n",
                "\n",
                "Creating a table with too many partitions can hurt performance due to processing overhead of partitioning leading to a inefficient CCI Rowgroups.\n",
                "\n",
                "When creating partitions on clustered columnstore tables, it is important to consider how many rows belong to each partition. For optimal compression and performance of clustered columnstore tables, a minimum of 1 million rows per distribution and partition is needed. Before partitions are created, dedicated SQL pool already divides each table into 60 distribution.\n",
                "\n",
                "### **_Formula_**\n",
                "\n",
                "1.000.000 rows X 60 distribution X number of partitions \n",
                "\n",
                "1.000.000 \\* 60 \\* 13 =  780.000.000 mininum rows evenly distributed\n",
                "\n",
                "### **Fix**\n",
                "\n",
                "For this case, removing all partitions will be benefit and perform better."
            ]
        },
        {
            "cell_type": "code",
            "execution_count": null,
            "metadata": {
                "azdata_cell_guid": "c71abb3b-d62b-454a-95c3-262592b7fe63",
                "language": "sql"
            },
            "outputs": [],
            "source": [
                "-- Use LoadData user\n",
                "CREATE TABLE Trip_Partitioned_new\n",
                "WITH\n",
                "(\n",
                "\tDISTRIBUTION = HASH ( [MedallionID] ),\n",
                "\tCLUSTERED COLUMNSTORE INDEX \n",
                ")\n",
                "AS SELECT * FROM Trip_Partitioned\n",
                "OPTION (LABEL = 'Loading Data')\n",
                "GO"
            ]
        },
        {
            "attachments": {},
            "cell_type": "markdown",
            "metadata": {
                "azdata_cell_guid": "2bd6e4cd-6be7-4f7c-9bcf-0032b24366e8",
                "language": "sql"
            },
            "source": [
                "_**Let's compare the tables**_\n",
                "\n",
                "_**Pay attention to # of Open Row Groups and**_"
            ]
        },
        {
            "cell_type": "code",
            "execution_count": null,
            "metadata": {
                "azdata_cell_guid": "f9308a2f-1b48-4ade-a351-1dd4354c5a7b",
                "language": "sql"
            },
            "outputs": [],
            "source": [
                "SELECT * FROM dbo.vCCIHEalth WHERE Table_Name = 'Trip_Partitioned';\n"
            ]
        },
        {
            "cell_type": "code",
            "execution_count": null,
            "metadata": {
                "azdata_cell_guid": "9cb5d144-f330-4afa-a510-37a71856623e",
                "language": "sql"
            },
            "outputs": [],
            "source": [
                "SELECT * FROM dbo.vCCIHEalth WHERE Table_Name = 'Trip_Partitioned_new';"
            ]
        },
        {
            "cell_type": "code",
            "execution_count": null,
            "metadata": {
                "azdata_cell_guid": "801ae194-e566-4528-8e4b-e80bd5e89ef9",
                "language": "sql"
            },
            "outputs": [],
            "source": [
                "SELECT * FROM dbo.vCCI_Stats_Detail WHERE logical_table_name = 'Trip_Partitioned' ORDER BY state_desc DESC;"
            ]
        },
        {
            "cell_type": "code",
            "execution_count": null,
            "metadata": {
                "azdata_cell_guid": "9eb6ef60-5f46-4fea-909a-7d9486b06af9",
                "language": "sql"
            },
            "outputs": [],
            "source": [
                "SELECT * FROM dbo.vCCI_Stats_Detail WHERE logical_table_name = 'Trip_Partitioned_new' ORDER BY state_desc DESC, trim_reason_desc DESC;"
            ]
        },
        {
            "cell_type": "code",
            "execution_count": null,
            "metadata": {
                "azdata_cell_guid": "fdd0d65b-0cb3-412d-838f-bdbfbdaea317",
                "language": "sql",
                "tags": []
            },
            "outputs": [],
            "source": [
                "RENAME OBJECT Trip_Partitioned TO Trip_Partitioned_orig\n",
                "RENAME OBJECT Trip_Partitioned_new TO Trip_Partitioned"
            ]
        },
        {
            "cell_type": "code",
            "execution_count": null,
            "metadata": {
                "azdata_cell_guid": "98276123-3c22-4850-879d-4bbe8dc5f7c9",
                "language": "sql"
            },
            "outputs": [],
            "source": [
                "DROP TABLE dbo.Trip_Partitioned_orig"
            ]
        },
        {
            "attachments": {},
            "cell_type": "markdown",
            "metadata": {
                "azdata_cell_guid": "05a80850-b3bb-4e98-8e95-8952ad3e3689",
                "language": ""
            },
            "source": [
                "Back to PBI\n",
                "\n",
                "Refresh the Dataset"
            ]
        }
    ],
    "metadata": {
        "kernelspec": {
            "display_name": "SQL",
            "language": "sql",
            "name": "SQL"
        },
        "language_info": {
            "name": "sql",
            "version": ""
        }
    },
    "nbformat": 4,
    "nbformat_minor": 2
}

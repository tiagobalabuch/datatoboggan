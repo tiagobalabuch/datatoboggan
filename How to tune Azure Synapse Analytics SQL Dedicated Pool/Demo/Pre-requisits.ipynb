{
    "metadata": {
        "kernelspec": {
            "name": "SQL",
            "display_name": "SQL",
            "language": "sql"
        },
        "language_info": {
            "name": "sql",
            "version": ""
        }
    },
    "nbformat_minor": 2,
    "nbformat": 4,
    "cells": [
        {
            "cell_type": "markdown",
            "source": [
                "# Data toboggan"
            ],
            "metadata": {
                "language": "sql",
                "azdata_cell_guid": "6fd10d42-ab71-43e1-a5db-1d863d3e9097"
            },
            "attachments": {}
        },
        {
            "cell_type": "markdown",
            "source": [
                "This notebook will guide you to create your environment\n",
                "\n",
                "First, let's create a login and user that will be used along this session.\n",
                "\n",
                "**<mark>Connect to master database</mark>**"
            ],
            "metadata": {
                "language": "sql",
                "azdata_cell_guid": "7d5b349a-b299-4bb9-813f-e1e36c0ccf89"
            },
            "attachments": {}
        },
        {
            "cell_type": "code",
            "source": [
                "-- AUTHENTICATION\r\n",
                "-- Connect to master database and create a login\r\n",
                "CREATE LOGIN LoadData WITH PASSWORD  ='myLoadD@t@' ;\r\n",
                "GO"
            ],
            "metadata": {
                "azdata_cell_guid": "e5f86ebf-f0ff-4f66-bfac-d39bae225c00",
                "language": "sql"
            },
            "outputs": [
                {
                    "output_type": "display_data",
                    "data": {
                        "text/html": "Commands completed successfully."
                    },
                    "metadata": {}
                },
                {
                    "output_type": "display_data",
                    "data": {
                        "text/html": "Total execution time: 00:00:00.065"
                    },
                    "metadata": {}
                }
            ],
            "execution_count": 1
        },
        {
            "cell_type": "markdown",
            "source": [
                "## Workload Management"
            ],
            "metadata": {
                "language": "sql",
                "azdata_cell_guid": "76688f40-c54e-44b3-a0f3-180e56b1fd63"
            },
            "attachments": {}
        },
        {
            "cell_type": "code",
            "source": [
                "CREATE WORKLOAD GROUP ETL\r\n",
                "WITH (MIN_PERCENTAGE_RESOURCE =0 \r\n",
                "      ,CAP_PERCENTAGE_RESOURCE = 100\r\n",
                "      ,REQUEST_MIN_RESOURCE_GRANT_PERCENT = 50);\r\n",
                "\r\n",
                "CREATE WORKLOAD CLASSIFIER LoadingData\r\n",
                "WITH ( WORKLOAD_GROUP = 'ETL'\r\n",
                "      ,MEMBERNAME = 'LoadData')\r\n",
                "      \r\n",
                "CREATE WORKLOAD GROUP maintenance\r\n",
                "WITH (MIN_PERCENTAGE_RESOURCE = 0 \r\n",
                "      ,CAP_PERCENTAGE_RESOURCE = 100\r\n",
                "      ,REQUEST_MIN_RESOURCE_GRANT_PERCENT = 50);\r\n",
                "\r\n",
                ""
            ],
            "metadata": {
                "language": "sql",
                "azdata_cell_guid": "5d347610-b2fb-4ca5-87e4-f06e546de46e",
                "tags": []
            },
            "outputs": [
                {
                    "output_type": "display_data",
                    "data": {
                        "text/html": "Commands completed successfully."
                    },
                    "metadata": {}
                },
                {
                    "output_type": "display_data",
                    "data": {
                        "text/html": "Total execution time: 00:00:00.223"
                    },
                    "metadata": {}
                }
            ],
            "execution_count": 7
        },
        {
            "cell_type": "markdown",
            "source": [
                "**<mark>Switch to your database</mark>** to create a user"
            ],
            "metadata": {
                "azdata_cell_guid": "d72cb052-b135-48fb-a861-01f51f57daea"
            },
            "attachments": {}
        },
        {
            "cell_type": "code",
            "source": [
                "\r\n",
                "CREATE USER LoadData FOR LOGIN LoadData; \r\n",
                "GO  \r\n",
                "-- Allow user to read data\r\n",
                "EXEC sp_addrolemember 'db_datareader', 'LoadData'; \r\n",
                "\r\n",
                "-- Allow user to write data\r\n",
                "EXEC sp_addrolemember 'db_datawriter', 'LoadData';\r\n",
                "\r\n",
                "-- Can do everything within the database\r\n",
                "EXEC sp_addrolemember 'db_owner', 'LoadData';"
            ],
            "metadata": {
                "language": "sql",
                "azdata_cell_guid": "09f28368-ae48-48a1-ad10-5a04e0b06f33"
            },
            "outputs": [
                {
                    "output_type": "error",
                    "ename": "",
                    "evalue": "Msg 15023, Level 16, State 6, Line 1\r\nUser, group, or role 'LoadData' already exists in the current database.",
                    "traceback": []
                },
                {
                    "output_type": "display_data",
                    "data": {
                        "text/html": "Commands completed successfully."
                    },
                    "metadata": {}
                },
                {
                    "output_type": "display_data",
                    "data": {
                        "text/html": "Total execution time: 00:00:00.281"
                    },
                    "metadata": {}
                }
            ],
            "execution_count": 2
        },
        {
            "cell_type": "markdown",
            "source": [
                "## Creating table schema"
            ],
            "metadata": {
                "language": "sql",
                "azdata_cell_guid": "c2eef35e-1167-4a08-a688-23d82b6492d2"
            },
            "attachments": {}
        },
        {
            "cell_type": "code",
            "source": [
                "CREATE TABLE [dbo].[Date]\r\n",
                "(\r\n",
                "    [DateID] int NOT NULL,\r\n",
                "    [Date] datetime NULL,\r\n",
                "    [DateBKey] char(10) COLLATE SQL_Latin1_General_CP1_CI_AS NULL,\r\n",
                "    [DayOfMonth] varchar(2) COLLATE SQL_Latin1_General_CP1_CI_AS NULL,\r\n",
                "    [DaySuffix] varchar(4) COLLATE SQL_Latin1_General_CP1_CI_AS NULL,\r\n",
                "    [DayName] varchar(9) COLLATE SQL_Latin1_General_CP1_CI_AS NULL,\r\n",
                "    [DayOfWeek] char(1) COLLATE SQL_Latin1_General_CP1_CI_AS NULL,\r\n",
                "    [DayOfWeekInMonth] varchar(2) COLLATE SQL_Latin1_General_CP1_CI_AS NULL,\r\n",
                "    [DayOfWeekInYear] varchar(2) COLLATE SQL_Latin1_General_CP1_CI_AS NULL,\r\n",
                "    [DayOfQuarter] varchar(3) COLLATE SQL_Latin1_General_CP1_CI_AS NULL,\r\n",
                "    [DayOfYear] varchar(3) COLLATE SQL_Latin1_General_CP1_CI_AS NULL,\r\n",
                "    [WeekOfMonth] varchar(1) COLLATE SQL_Latin1_General_CP1_CI_AS NULL,\r\n",
                "    [WeekOfQuarter] varchar(2) COLLATE SQL_Latin1_General_CP1_CI_AS NULL,\r\n",
                "    [WeekOfYear] varchar(2) COLLATE SQL_Latin1_General_CP1_CI_AS NULL,\r\n",
                "    [Month] varchar(2) COLLATE SQL_Latin1_General_CP1_CI_AS NULL,\r\n",
                "    [MonthName] varchar(9) COLLATE SQL_Latin1_General_CP1_CI_AS NULL,\r\n",
                "    [MonthOfQuarter] varchar(2) COLLATE SQL_Latin1_General_CP1_CI_AS NULL,\r\n",
                "    [Quarter] char(1) COLLATE SQL_Latin1_General_CP1_CI_AS NULL,\r\n",
                "    [QuarterName] varchar(9) COLLATE SQL_Latin1_General_CP1_CI_AS NULL,\r\n",
                "    [Year] char(4) COLLATE SQL_Latin1_General_CP1_CI_AS NULL,\r\n",
                "    [YearName] char(7) COLLATE SQL_Latin1_General_CP1_CI_AS NULL,\r\n",
                "    [MonthYear] char(10) COLLATE SQL_Latin1_General_CP1_CI_AS NULL,\r\n",
                "    [MMYYYY] char(6) COLLATE SQL_Latin1_General_CP1_CI_AS NULL,\r\n",
                "    [FirstDayOfMonth] date NULL,\r\n",
                "    [LastDayOfMonth] date NULL,\r\n",
                "    [FirstDayOfQuarter] date NULL,\r\n",
                "    [LastDayOfQuarter] date NULL,\r\n",
                "    [FirstDayOfYear] date NULL,\r\n",
                "    [LastDayOfYear] date NULL,\r\n",
                "    [IsHolidayUSA] bit NULL,\r\n",
                "    [IsWeekday] bit NULL,\r\n",
                "    [HolidayUSA] varchar(50) COLLATE SQL_Latin1_General_CP1_CI_AS NULL\r\n",
                ")\r\n",
                "WITH\r\n",
                "(\r\n",
                "    DISTRIBUTION = ROUND_ROBIN,\r\n",
                "    CLUSTERED COLUMNSTORE INDEX\r\n",
                ");\r\n",
                "\r\n",
                "CREATE TABLE [dbo].[Geography]\r\n",
                "(\r\n",
                "    [GeographyID] int NOT NULL,\r\n",
                "    [ZipCodeBKey] varchar(10) COLLATE SQL_Latin1_General_CP1_CI_AS NOT NULL,\r\n",
                "    [County] varchar(50) COLLATE SQL_Latin1_General_CP1_CI_AS NULL,\r\n",
                "    [City] varchar(50) COLLATE SQL_Latin1_General_CP1_CI_AS NULL,\r\n",
                "    [State] varchar(50) COLLATE SQL_Latin1_General_CP1_CI_AS NULL,\r\n",
                "    [Country] varchar(50) COLLATE SQL_Latin1_General_CP1_CI_AS NULL,\r\n",
                "    [ZipCode] varchar(50) COLLATE SQL_Latin1_General_CP1_CI_AS NULL\r\n",
                ")\r\n",
                "WITH\r\n",
                "(\r\n",
                "    DISTRIBUTION = ROUND_ROBIN,\r\n",
                "    CLUSTERED COLUMNSTORE INDEX\r\n",
                ");\r\n",
                "\r\n",
                "\r\n",
                "CREATE TABLE [dbo].[HackneyLicense]\r\n",
                "(\r\n",
                "    [HackneyLicenseID] int NOT NULL,\r\n",
                "    [HackneyLicenseBKey] varchar(50) COLLATE SQL_Latin1_General_CP1_CI_AS NOT NULL,\r\n",
                "    [HackneyLicenseCode] varchar(50) COLLATE SQL_Latin1_General_CP1_CI_AS NULL\r\n",
                ")\r\n",
                "WITH\r\n",
                "(\r\n",
                "    DISTRIBUTION = ROUND_ROBIN,\r\n",
                "    CLUSTERED COLUMNSTORE INDEX\r\n",
                ");\r\n",
                "\r\n",
                "CREATE TABLE [dbo].[Medallion]\r\n",
                "(\r\n",
                "    [MedallionID] int NOT NULL,\r\n",
                "    [MedallionBKey] varchar(50) COLLATE SQL_Latin1_General_CP1_CI_AS NOT NULL,\r\n",
                "    [MedallionCode] varchar(50) COLLATE SQL_Latin1_General_CP1_CI_AS NULL\r\n",
                ")\r\n",
                "WITH\r\n",
                "(\r\n",
                "    DISTRIBUTION = ROUND_ROBIN,\r\n",
                "    CLUSTERED COLUMNSTORE INDEX\r\n",
                ");\r\n",
                "\r\n",
                "CREATE TABLE [dbo].[Trip]\r\n",
                "(\r\n",
                "    [DateID] int NOT NULL,\r\n",
                "    [MedallionID] int NOT NULL,\r\n",
                "    [HackneyLicenseID] int NOT NULL,\r\n",
                "    [PickupTimeID] int NOT NULL,\r\n",
                "    [DropoffTimeID] int NOT NULL,\r\n",
                "    [PickupGeographyID] int NULL,\r\n",
                "    [DropoffGeographyID] int NULL,\r\n",
                "    [PickupLatitude] float NULL,\r\n",
                "    [PickupLongitude] float NULL,\r\n",
                "    [PickupLatLong] varchar(50) COLLATE SQL_Latin1_General_CP1_CI_AS NULL,\r\n",
                "    [DropoffLatitude] float NULL,\r\n",
                "    [DropoffLongitude] float NULL,\r\n",
                "    [DropoffLatLong] varchar(50) COLLATE SQL_Latin1_General_CP1_CI_AS NULL,\r\n",
                "    [PassengerCount] int NULL,\r\n",
                "    [TripDurationSeconds] int NULL,\r\n",
                "    [TripDistanceMiles] float NULL,\r\n",
                "    [PaymentType] varchar(50) COLLATE SQL_Latin1_General_CP1_CI_AS NULL,\r\n",
                "    [FareAmount] money NULL,\r\n",
                "    [SurchargeAmount] money NULL,\r\n",
                "    [TaxAmount] money NULL,\r\n",
                "    [TipAmount] money NULL,\r\n",
                "    [TollsAmount] money NULL,\r\n",
                "    [TotalAmount] money NULL\r\n",
                ")\r\n",
                "WITH\r\n",
                "(\r\n",
                "    DISTRIBUTION = ROUND_ROBIN,\r\n",
                "    CLUSTERED COLUMNSTORE INDEX\r\n",
                ");\r\n",
                "\r\n",
                "CREATE TABLE [dbo].[Weather]\r\n",
                "(\r\n",
                "    [DateID] int NOT NULL,\r\n",
                "    [GeographyID] int NOT NULL,\r\n",
                "    [PrecipitationInches] float NOT NULL,\r\n",
                "    [AvgTemperatureFahrenheit] float NOT NULL\r\n",
                ")\r\n",
                "WITH\r\n",
                "(\r\n",
                "    DISTRIBUTION = ROUND_ROBIN,\r\n",
                "    CLUSTERED COLUMNSTORE INDEX\r\n",
                ");\r\n",
                "\r\n",
                "-- it is not working\r\n",
                "CREATE TABLE [dbo].[Time]\r\n",
                "(\r\n",
                "    [TimeID] int NOT NULL,\r\n",
                "    [TimeBKey] varchar(8) COLLATE SQL_Latin1_General_CP1_CI_AS NOT NULL,\r\n",
                "    [HourNumber] tinyint NOT NULL,\r\n",
                "    [MinuteNumber] tinyint NOT NULL,\r\n",
                "    [SecondNumber] tinyint NOT NULL,\r\n",
                "    [TimeInSecond] int NOT NULL,\r\n",
                "    [HourlyBucket] varchar(15) COLLATE SQL_Latin1_General_CP1_CI_AS NOT NULL,\r\n",
                "    [DayTimeBucketGroupKey] int NOT NULL,\r\n",
                "    [DayTimeBucket] varchar(100) COLLATE SQL_Latin1_General_CP1_CI_AS NOT NULL\r\n",
                ")\r\n",
                "WITH\r\n",
                "(\r\n",
                "    DISTRIBUTION = ROUND_ROBIN,\r\n",
                "    CLUSTERED COLUMNSTORE INDEX\r\n",
                ");\r\n",
                "\r\n",
                "CREATE TABLE [dbo].[Time]\r\n",
                "(\r\n",
                "    [TimeID] int NOT NULL,\r\n",
                "    [TimeBKey] varchar(8) COLLATE SQL_Latin1_General_CP1_CI_AS NOT NULL,\r\n",
                "    [HourNumber] tinyint NOT NULL,\r\n",
                "    [MinuteNumber] tinyint NOT NULL,\r\n",
                "    [SecondNumber] tinyint NOT NULL,\r\n",
                "    [TimeInSecond] int NOT NULL,\r\n",
                "    [HourlyBucket] varchar(15) COLLATE SQL_Latin1_General_CP1_CI_AS NOT NULL,\r\n",
                "    [DayTimeBucketGroupKey] int NOT NULL,\r\n",
                "    [DayTimeBucket] varchar(100) COLLATE SQL_Latin1_General_CP1_CI_AS NOT NULL\r\n",
                ")\r\n",
                "WITH\r\n",
                "(\r\n",
                "    DISTRIBUTION = ROUND_ROBIN,\r\n",
                "    CLUSTERED COLUMNSTORE INDEX\r\n",
                ");"
            ],
            "metadata": {
                "language": "sql",
                "azdata_cell_guid": "a90638ac-d19a-44d6-912d-d5b13c412522",
                "tags": []
            },
            "outputs": [],
            "execution_count": null
        },
        {
            "cell_type": "markdown",
            "source": [
                "## Loading Data into database\n",
                "\n",
                "Connect to your dedicated SQL Pool\n",
                "\n",
                "**User**: LoadData\n",
                "\n",
                "**Password**: myLoadD@t@"
            ],
            "metadata": {
                "language": "",
                "azdata_cell_guid": "b7c5dbf6-4ec6-4d44-bee7-1625230f9044"
            },
            "attachments": {}
        },
        {
            "cell_type": "code",
            "source": [
                "SELECT USER_NAME()"
            ],
            "metadata": {
                "language": "sql",
                "azdata_cell_guid": "bb193a61-6054-430d-a915-18d5f439002d"
            },
            "outputs": [
                {
                    "output_type": "display_data",
                    "data": {
                        "text/html": "(1 row affected)"
                    },
                    "metadata": {}
                },
                {
                    "output_type": "display_data",
                    "data": {
                        "text/html": "Total execution time: 00:00:00.108"
                    },
                    "metadata": {}
                },
                {
                    "output_type": "execute_result",
                    "execution_count": 8,
                    "data": {
                        "application/vnd.dataresource+json": {
                            "schema": {
                                "fields": [
                                    {
                                        "name": "(No column name)"
                                    }
                                ]
                            },
                            "data": [
                                {
                                    "0": "LoadData"
                                }
                            ]
                        },
                        "text/html": "<table><tr><th>(No column name)</th></tr><tr><td>LoadData</td></tr></table>"
                    },
                    "metadata": {}
                }
            ],
            "execution_count": 8
        },
        {
            "cell_type": "code",
            "source": [
                "COPY INTO [dbo].[Date]\r\n",
                "FROM 'https://nytaxiblob.blob.core.windows.net/2013/Date'\r\n",
                "WITH\r\n",
                "(\r\n",
                "    FILE_TYPE = 'CSV',\r\n",
                "\tFIELDTERMINATOR = ',',\r\n",
                "\tFIELDQUOTE = ''\r\n",
                ")\r\n",
                "OPTION (LABEL = 'Loading Data');\r\n",
                "\r\n",
                "\r\n",
                "COPY INTO [dbo].[Geography]\r\n",
                "FROM 'https://nytaxiblob.blob.core.windows.net/2013/Geography'\r\n",
                "WITH\r\n",
                "(\r\n",
                "    FILE_TYPE = 'CSV',\r\n",
                "\tFIELDTERMINATOR = ',',\r\n",
                "\tFIELDQUOTE = ''\r\n",
                ")\r\n",
                "OPTION (LABEL = 'Loading Data');\r\n",
                "\r\n",
                "COPY INTO [dbo].[HackneyLicense]\r\n",
                "FROM 'https://nytaxiblob.blob.core.windows.net/2013/HackneyLicense'\r\n",
                "WITH\r\n",
                "(\r\n",
                "    FILE_TYPE = 'CSV',\r\n",
                "\tFIELDTERMINATOR = ',',\r\n",
                "\tFIELDQUOTE = ''\r\n",
                ")\r\n",
                "OPTION (LABEL = 'Loading Data');\r\n",
                "\r\n",
                "COPY INTO [dbo].[Medallion]\r\n",
                "FROM 'https://nytaxiblob.blob.core.windows.net/2013/Medallion'\r\n",
                "WITH\r\n",
                "(\r\n",
                "    FILE_TYPE = 'CSV',\r\n",
                "\tFIELDTERMINATOR = ',',\r\n",
                "\tFIELDQUOTE = ''\r\n",
                ")\r\n",
                "OPTION (LABEL = 'Loading Data');\r\n",
                "\r\n",
                "COPY INTO [dbo].[Weather]\r\n",
                "FROM 'https://nytaxiblob.blob.core.windows.net/2013/Weather'\r\n",
                "WITH\r\n",
                "(\r\n",
                "    FILE_TYPE = 'CSV',\r\n",
                "\tFIELDTERMINATOR = ',',\r\n",
                "\tFIELDQUOTE = '',\r\n",
                "\tROWTERMINATOR='0X0A'\r\n",
                ")\r\n",
                "OPTION (LABEL = 'Loading Data');\r\n",
                "\r\n",
                "COPY INTO [dbo].[Trip]\r\n",
                "FROM 'https://nytaxiblob.blob.core.windows.net/2013/Trip2013'\r\n",
                "WITH\r\n",
                "(\r\n",
                "    FILE_TYPE = 'CSV',\r\n",
                "\tFIELDTERMINATOR = '|',\r\n",
                "\tFIELDQUOTE = '',\r\n",
                "\tROWTERMINATOR='0X0A',\r\n",
                "\tCOMPRESSION = 'GZIP'\r\n",
                ")\r\n",
                "OPTION (LABEL = 'Loading Data');\r\n",
                "\r\n",
                "COPY INTO [dbo].[Time]\r\n",
                "FROM 'https://nytaxiblob.blob.core.windows.net/2013/Time'\r\n",
                "WITH\r\n",
                "(\r\n",
                "    FILE_TYPE = 'CSV',\r\n",
                "\tFIELDTERMINATOR = ',',\r\n",
                "\tFIELDQUOTE = ''\r\n",
                ")\r\n",
                "OPTION (LABEL = 'Loading Data');"
            ],
            "metadata": {
                "language": "sql",
                "azdata_cell_guid": "d560c2b6-80ff-4016-94d4-88acf8ddcdf5",
                "tags": []
            },
            "outputs": [],
            "execution_count": null
        },
        {
            "cell_type": "markdown",
            "source": [
                "## Monitoring\n",
                "\n",
                "View your data as it loads. You're loading several GBs of data and compressing it into highly performant clustered columnstore indexes. Run the following query that uses a dynamic management views (DMVs) to show the status of the load\n",
                "\n",
                "**_Copy and paste the code below into a new query to o_****_pen a new connection while you are loading data into the database_**"
            ],
            "metadata": {
                "language": "sql",
                "azdata_cell_guid": "5d907943-faf9-4981-9189-503d4e260b5b"
            },
            "attachments": {}
        },
        {
            "cell_type": "code",
            "source": [
                "SELECT  r.[request_id]                           \r\n",
                ",       r.[status]                               \r\n",
                ",       r.resource_class                         \r\n",
                ",       r.command,\r\n",
                "r.[status]\r\n",
                "\r\n",
                "FROM    sys.dm_pdw_exec_requests r\r\n",
                "              JOIN sys.dm_pdw_dms_workers w\r\n",
                "                     ON r.[request_id] = w.request_id\r\n",
                "WHERE [label] = 'Loading Data' \r\n",
                "and session_id <> session_id() and type = 'WRITER'\r\n",
                "GROUP BY r.[request_id]                           \r\n",
                ",       r.[status]                               \r\n",
                ",       r.resource_class                         \r\n",
                ",       r.command;"
            ],
            "metadata": {
                "language": "sql",
                "azdata_cell_guid": "fba81b61-b48a-4936-b42e-c95fffafc009"
            },
            "outputs": [
                {
                    "output_type": "display_data",
                    "data": {
                        "text/html": "(1 row affected)"
                    },
                    "metadata": {}
                },
                {
                    "output_type": "display_data",
                    "data": {
                        "text/html": "Total execution time: 00:00:01.754"
                    },
                    "metadata": {}
                },
                {
                    "output_type": "execute_result",
                    "execution_count": 9,
                    "data": {
                        "application/vnd.dataresource+json": {
                            "schema": {
                                "fields": [
                                    {
                                        "name": "request_id"
                                    },
                                    {
                                        "name": "status"
                                    },
                                    {
                                        "name": "resource_class"
                                    },
                                    {
                                        "name": "command"
                                    },
                                    {
                                        "name": "status"
                                    }
                                ]
                            },
                            "data": [
                                {
                                    "0": "QID10898",
                                    "1": "Completed",
                                    "2": "ELT",
                                    "3": "COPY INTO [dbo].[Time]\r\nFROM 'https://nytaxiblob.blob.core.windows.net/2013/Time'\r\nWITH\r\n(\r\n    FILE_TYPE = 'CSV',\r\n\tFIELDTERMINATOR = ',',\r\n\tFIELDQUOTE = ''\r\n)\r\nOPTION (LABEL = 'Loading Data');",
                                    "4": "Completed"
                                }
                            ]
                        },
                        "text/html": "<table><tr><th>request_id</th><th>status</th><th>resource_class</th><th>command</th><th>status</th></tr><tr><td>QID10898</td><td>Completed</td><td>ELT</td><td>COPY INTO [dbo].[Time]\r\nFROM 'https://nytaxiblob.blob.core.windows.net/2013/Time'\r\nWITH\r\n(\r\n    FILE_TYPE = 'CSV',\r\n\tFIELDTERMINATOR = ',',\r\n\tFIELDQUOTE = ''\r\n)\r\nOPTION (LABEL = 'Loading Data');</td><td>Completed</td></tr></table>"
                    },
                    "metadata": {}
                }
            ],
            "execution_count": 9
        },
        {
            "cell_type": "markdown",
            "source": [
                "## Preparing the Lab"
            ],
            "metadata": {
                "language": "sql",
                "azdata_cell_guid": "3a8633dd-f090-4109-945a-6b376b496b5e"
            },
            "attachments": {}
        },
        {
            "cell_type": "code",
            "source": [
                "IF OBJECT_ID('dbo.Trip_Partitioned') IS NOT NULL\r\n",
                "BEGIN\r\n",
                "DROP TABLE dbo.Trip_Partitioned\r\n",
                "END\r\n",
                "\r\n",
                "IF OBJECT_ID('dbo.Trip_Partitioned_demo') IS NULL\r\n",
                "BEGIN\r\n",
                "CREATE TABLE dbo.Trip_Partitioned\r\n",
                "WITH\r\n",
                "(\r\n",
                "\tDISTRIBUTION = HASH (MedallionID),\r\n",
                "\tCLUSTERED COLUMNSTORE INDEX,\r\n",
                "\tPARTITION\r\n",
                "\t(\r\n",
                "\t\t[DateID] RANGE RIGHT FOR VALUES (20130101, 20130201, 20130301, 20130401, 20130501, 20130601, 20130701, 20130801, 20130901, 20131001, 20131101, 20131201)\r\n",
                "\t)\r\n",
                ")\r\n",
                "AS\r\n",
                "SELECT * FROM dbo.Trip_Partitioned\r\n",
                "-- OPTION (LABEL = 'Loading Data'); -- Simulating a user with less resources \r\n",
                "END"
            ],
            "metadata": {
                "language": "sql",
                "azdata_cell_guid": "fab1bb1e-6db6-445c-b26e-f739f13c24e5"
            },
            "outputs": [
                {
                    "output_type": "display_data",
                    "data": {
                        "text/html": "(170261325 rows affected)"
                    },
                    "metadata": {}
                },
                {
                    "output_type": "display_data",
                    "data": {
                        "text/html": "Total execution time: 00:06:30.994"
                    },
                    "metadata": {}
                }
            ],
            "execution_count": 14
        },
        {
            "cell_type": "code",
            "source": [
                "IF OBJECT_ID('dbo.Trip_Partitioned_demo') IS NULL\r\n",
                "BEGIN\r\n",
                "CREATE TABLE dbo.Trip_Partitioned_demo\r\n",
                "WITH\r\n",
                "(\r\n",
                "\tDISTRIBUTION = HASH (MedallionID),\r\n",
                "\tCLUSTERED COLUMNSTORE INDEX,\r\n",
                "\tPARTITION\r\n",
                "\t(\r\n",
                "\t\t[DateID] RANGE RIGHT FOR VALUES (20130101, 20130201, 20130301, 20130401, 20130501, 20130601, 20130701, 20130801, 20130901, 20131001, 20131101, 20131201)\r\n",
                "\t)\r\n",
                ")\r\n",
                "AS\r\n",
                "SELECT * FROM dbo.Trip_Partitioned\r\n",
                "--CREATE OPTION (LABEL = 'Loading Data'); -- Simulating a user with less resources \r\n",
                "END"
            ],
            "metadata": {
                "language": "sql",
                "azdata_cell_guid": "851399c0-bc7e-4065-8091-dc3724a48dbc"
            },
            "outputs": [
                {
                    "output_type": "display_data",
                    "data": {
                        "text/html": "(170261325 rows affected)"
                    },
                    "metadata": {}
                },
                {
                    "output_type": "display_data",
                    "data": {
                        "text/html": "Total execution time: 00:03:42.898"
                    },
                    "metadata": {}
                }
            ],
            "execution_count": 8
        },
        {
            "cell_type": "code",
            "source": [
                "RENAME OBJECT Trip_Partitioned TO Trip_Partitioned_drop\r\n",
                "RENAME OBJECT Trip_Partitioned_demo TO Trip_Partitioned\r\n",
                "\r\n",
                ""
            ],
            "metadata": {
                "language": "sql",
                "azdata_cell_guid": "f6ba2195-6350-4f84-bd07-a299a08cc187",
                "tags": []
            },
            "outputs": [
                {
                    "output_type": "display_data",
                    "data": {
                        "text/html": "Commands completed successfully."
                    },
                    "metadata": {}
                },
                {
                    "output_type": "display_data",
                    "data": {
                        "text/html": "Total execution time: 00:00:00.126"
                    },
                    "metadata": {}
                }
            ],
            "execution_count": 9
        },
        {
            "cell_type": "code",
            "source": [
                "drop table Trip_Partitioned_drop"
            ],
            "metadata": {
                "language": "sql",
                "azdata_cell_guid": "63ea971c-75c6-41a2-b898-60ae54ada81a"
            },
            "outputs": [
                {
                    "output_type": "display_data",
                    "data": {
                        "text/html": "Commands completed successfully."
                    },
                    "metadata": {}
                },
                {
                    "output_type": "display_data",
                    "data": {
                        "text/html": "Total execution time: 00:00:01.069"
                    },
                    "metadata": {}
                }
            ],
            "execution_count": 10
        },
        {
            "cell_type": "code",
            "source": [
                "-- Use LoadData user\r\n",
                "\r\n",
                "IF OBJECT_ID('dbo.SearchTaxi') IS NULL\r\n",
                "BEGIN\r\n",
                "CREATE TABLE dbo.SearchTaxi\r\n",
                "WITH\r\n",
                "(\r\n",
                "\tDISTRIBUTION = REPLICATE,\r\n",
                "\tCLUSTERED COLUMNSTORE INDEX\r\n",
                ")\r\n",
                "AS SELECT TOP 100859354 * FROM Trip\r\n",
                "OPTION (LABEL = 'Loading Data')\r\n",
                "END"
            ],
            "metadata": {
                "language": "sql",
                "azdata_cell_guid": "62437c39-c522-4465-a4e3-0cdd598be3b2"
            },
            "outputs": [],
            "execution_count": null
        },
        {
            "cell_type": "code",
            "source": [
                "-- Use LoadData user\r\n",
                "IF OBJECT_ID('dbo.Rides') IS NULL\r\n",
                "BEGIN\r\n",
                "CREATE TABLE dbo.Rides\r\n",
                "WITH\r\n",
                "\t(DISTRIBUTION = HASH(DateID_Dflt),\r\n",
                "\t CLUSTERED COLUMNSTORE INDEX )AS\r\n",
                "SELECT  DateID AS DateID_Dflt,\r\n",
                "\t\t*\r\n",
                "\tFROM Trip\r\n",
                "UNION\r\n",
                "SELECT  999 AS DateID_Dflt,\r\n",
                "\t\t*\r\n",
                "\tFROM Trip\r\n",
                "OPTION (LABEL = 'Loading Data')\r\n",
                "\r\n",
                "-- This will take a while to complete."
            ],
            "metadata": {
                "language": "sql",
                "azdata_cell_guid": "efd4817b-36f5-440d-a6f7-3575eb04bc96"
            },
            "outputs": [],
            "execution_count": null
        }
    ]
}